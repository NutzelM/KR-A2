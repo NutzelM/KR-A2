{
 "cells": [
  {
   "cell_type": "code",
   "execution_count": 7,
   "id": "b4602460",
   "metadata": {},
   "outputs": [
    {
     "name": "stdout",
     "output_type": "stream",
     "text": [
      "Collecting seaborn\n",
      "  Using cached seaborn-0.11.2-py3-none-any.whl (292 kB)\n",
      "Requirement already satisfied: numpy>=1.15 in /Library/Frameworks/Python.framework/Versions/3.8/lib/python3.8/site-packages (from seaborn) (1.21.4)\n",
      "Requirement already satisfied: pandas>=0.23 in /Library/Frameworks/Python.framework/Versions/3.8/lib/python3.8/site-packages (from seaborn) (1.3.5)\n",
      "Collecting matplotlib>=2.2\n",
      "  Downloading matplotlib-3.5.1-cp38-cp38-macosx_10_9_x86_64.whl (7.3 MB)\n",
      "\u001b[K     |████████████████████████████████| 7.3 MB 6.2 MB/s eta 0:00:01\n",
      "\u001b[?25hRequirement already satisfied: scipy>=1.0 in /Library/Frameworks/Python.framework/Versions/3.8/lib/python3.8/site-packages (from seaborn) (1.7.3)\n",
      "Requirement already satisfied: python-dateutil>=2.7.3 in /Library/Frameworks/Python.framework/Versions/3.8/lib/python3.8/site-packages (from pandas>=0.23->seaborn) (2.8.2)\n",
      "Requirement already satisfied: pytz>=2017.3 in /Library/Frameworks/Python.framework/Versions/3.8/lib/python3.8/site-packages (from pandas>=0.23->seaborn) (2021.3)\n",
      "Collecting kiwisolver>=1.0.1\n",
      "  Using cached kiwisolver-1.3.2-cp38-cp38-macosx_10_9_x86_64.whl (61 kB)\n",
      "Collecting cycler>=0.10\n",
      "  Using cached cycler-0.11.0-py3-none-any.whl (6.4 kB)\n",
      "Requirement already satisfied: pyparsing>=2.2.1 in /Library/Frameworks/Python.framework/Versions/3.8/lib/python3.8/site-packages (from matplotlib>=2.2->seaborn) (2.4.7)\n",
      "Collecting pillow>=6.2.0\n",
      "  Using cached Pillow-8.4.0-cp38-cp38-macosx_10_10_x86_64.whl (3.0 MB)\n",
      "Collecting fonttools>=4.22.0\n",
      "  Downloading fonttools-4.28.5-py3-none-any.whl (890 kB)\n",
      "\u001b[K     |████████████████████████████████| 890 kB 7.4 MB/s eta 0:00:01\n",
      "\u001b[?25hRequirement already satisfied: packaging>=20.0 in /Library/Frameworks/Python.framework/Versions/3.8/lib/python3.8/site-packages (from matplotlib>=2.2->seaborn) (21.2)\n",
      "Requirement already satisfied: six>=1.5 in /Library/Frameworks/Python.framework/Versions/3.8/lib/python3.8/site-packages (from python-dateutil>=2.7.3->pandas>=0.23->seaborn) (1.16.0)\n",
      "Installing collected packages: kiwisolver, cycler, pillow, fonttools, matplotlib, seaborn\n",
      "Successfully installed cycler-0.11.0 fonttools-4.28.5 kiwisolver-1.3.2 matplotlib-3.5.1 pillow-8.4.0 seaborn-0.11.2\n",
      "\u001b[33mWARNING: You are using pip version 20.2.3; however, version 21.3.1 is available.\n",
      "You should consider upgrading via the '/Library/Frameworks/Python.framework/Versions/3.8/bin/python3.8 -m pip install --upgrade pip' command.\u001b[0m\n"
     ]
    }
   ],
   "source": [
    "import sys\n",
    "!{sys.executable} -m pip install seaborn"
   ]
  },
  {
   "cell_type": "code",
   "execution_count": 8,
   "id": "b03eed78",
   "metadata": {},
   "outputs": [
    {
     "name": "stdout",
     "output_type": "stream",
     "text": [
      "KruskalResult(statistic=0.6116129032258044, pvalue=0.7365291596923476)\n"
     ]
    }
   ],
   "source": [
    "import pandas as pd\n",
    "from scipy import stats\n",
    "import numpy as np\n",
    "import seaborn as sns\n",
    "\n",
    "\n",
    "df_map = pd.read_csv('MAPdataframe.txt', sep=\" \")\n",
    "df_mpe = pd.read_csv('MPEdataframe.txt', sep=\" \")\n",
    "\n",
    "min_degree = np.array(df_map['min degree heuristic'])\n",
    "min_fill = np.array(df_map['min fill heurisic'])\n",
    "random = np.array(df_map['random (no heuristic)'])\n",
    "\n",
    "sort_d = np.sort(min_degree)\n",
    "sort_f = np.sort(min_fill)\n",
    "sort_r = np.sort(random)\n",
    "\n",
    "print(stats.kruskal(sort_d, sort_f, sort_r))\n",
    "\n"
   ]
  },
  {
   "cell_type": "code",
   "execution_count": 74,
   "id": "c1ffc95e",
   "metadata": {},
   "outputs": [
    {
     "data": {
      "image/png": "[encoded data removed]",
      "text/plain": [
       "<Figure size 432x288 with 1 Axes>"
      ]
     },
     "metadata": {},
     "output_type": "display_data"
    },
    {
     "data": {
      "text/plain": [
       "<Figure size 432x288 with 0 Axes>"
      ]
     },
     "metadata": {},
     "output_type": "display_data"
    }
   ],
   "source": [
    "df_map['min fill heuristic'] = min_fill\n",
    "sns.set_style(\"white\")\n",
    "ax = sns.boxplot(data=df_map, palette='Pastel2')\n",
    "ax.axes.set_title(\"MAP\", fontsize=14)\n",
    "ax.set_ylabel(\"Computation Time\", fontsize=11)\n",
    "ax.set(ylim=(0,0.5))\n",
    "plt.show()\n",
    "#sns.boxplot(data=df, x='var1', y='var2').set(title='Title of Plot')\n",
    "plt.savefig('map.png')"
   ]
  },
  {
   "cell_type": "code",
   "execution_count": 73,
   "id": "1d878be0",
   "metadata": {},
   "outputs": [
    {
     "data": {
      "image/png": "[encoded data removed]",
      "text/plain": [
       "<Figure size 432x288 with 1 Axes>"
      ]
     },
     "metadata": {},
     "output_type": "display_data"
    },
    {
     "data": {
      "text/plain": [
       "<Figure size 432x288 with 0 Axes>"
      ]
     },
     "metadata": {},
     "output_type": "display_data"
    }
   ],
   "source": [
    "df_mpe['min fill heuristic'] = min_fill\n",
    "#df_mpe = df_mpe.drop(columns='min fill heurisic', axis=1)\n",
    "sns.set_style(\"white\")\n",
    "ax = sns.boxplot(data=df_mpe, palette='Pastel2')\n",
    "ax.axes.set_title(\"MPE\", fontsize=14)\n",
    "ax.set_ylabel(\"Computation Time\", fontsize=11)\n",
    "ax.set(ylim=(0,0.5))\n",
    "plt.show()\n",
    "#sns.boxplot(data=df, x='var1', y='var2').set(title='Title of Plot')\n",
    "plt.savefig('mpe.png')\n"
   ]
  },
  {
   "cell_type": "code",
   "execution_count": null,
   "id": "9fdf31b2",
   "metadata": {},
   "outputs": [],
   "source": [
    "import matplotlib.pyplot as plt\n",
    "\n",
    "#Create plot\n",
    "fig = plt.figure(figsize =(4, 4)) #adjust size\n",
    "ax = fig.add_axes([0, 0, 1, 1])\n",
    "bp = ax.boxplot(data, patch_artist=True)\n",
    "for box in bp['boxes']:\n",
    "    box.set(color='black', linewidth=1.5)\n",
    "    box.set_facecolor(color = 'mediumseagreen' )  \n",
    "for median in bp['medians']:\n",
    "    median.set(color='black', linewidth=1.5)    \n",
    "ax.set_ylim([0,110])\n",
    "plt.xticks([1, 2], ['EA 1', 'EA 2'])\n",
    "ax.set_title('Agent performance: Enemy ' + str(enemy))\n",
    "ax.set_xlabel('Algorithm')\n",
    "ax.set_ylabel('Individual gain')\n",
    "plt.savefig(('boxplot_results_%s.png')% enemy, bbox_inches='tight')\n",
    "plt.show()"
   ]
  }
 ],
 "metadata": {
  "kernelspec": {
   "display_name": "Python 3 (ipykernel)",
   "language": "python",
   "name": "python3"
  },
  "language_info": {
   "codemirror_mode": {
    "name": "ipython",
    "version": 3
   },
   "file_extension": ".py",
   "mimetype": "text/x-python",
   "name": "python",
   "nbconvert_exporter": "python",
   "pygments_lexer": "ipython3",
   "version": "3.8.8"
  }
 },
 "nbformat": 4,
 "nbformat_minor": 5
}
